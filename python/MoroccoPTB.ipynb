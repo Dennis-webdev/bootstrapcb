{
 "metadata": {
  "language_info": {
   "codemirror_mode": {
    "name": "ipython",
    "version": 3
   },
   "file_extension": ".py",
   "mimetype": "text/x-python",
   "name": "python",
   "nbconvert_exporter": "python",
   "pygments_lexer": "ipython3",
   "version": "3.6.9-final"
  },
  "orig_nbformat": 2,
  "kernelspec": {
   "name": "python36964bit564bac3e734c4183a81d7112c5070657",
   "display_name": "Python 3.6.9 64-bit",
   "language": "python"
  }
 },
 "nbformat": 4,
 "nbformat_minor": 2,
 "cells": [
  {
   "cell_type": "code",
   "execution_count": 1,
   "metadata": {},
   "outputs": [],
   "source": [
    "import numpy as np\n",
    "import pandas as pd\n",
    "import scipy.stats as st\n",
    "from scipy.optimize import curve_fit\n",
    "import matplotlib.pyplot as plt\n",
    "np.random.seed(42)\n",
    "\n",
    "df = pd.DataFrame({\n",
    "    'value': [ \n",
    "        1.26,   2.78,   0.63,   0.34,\n",
    "        3.53,   4.10,   1.31,   0.91,\n",
    "        11.98,  13.14,  9.86,   6.53,\n",
    "        90.82,  97.12,  75.85,  59.46,\n",
    "        83.45,  116.62, 104.00, 80.85,\n",
    "        55.98,  67.28,  79.33,  82.66,\n",
    "        66.32,  78.53,  69.10,  67.27,\n",
    "        37.42,  55.35,  60.76,  73.20\n",
    "    ], \n",
    "    'lambda': [ \n",
    "        2,    2,    2,    2,   \n",
    "        7,    7,    7,    7,    \n",
    "        12,   12,   12,   12,   \n",
    "        19.5, 19.5, 19.5, 19.5, \n",
    "        29.5, 29.5, 29.5, 29.5, \n",
    "        39.5, 39.5, 39.5, 39.5, \n",
    "        54.5, 54.5, 54.5, 54.5, \n",
    "        75,   75,   75,   75    \n",
    "    ]\n",
    "})\n",
    "\n",
    "xs = [float(i) for i in df['lambda'].unique()]\n",
    "ys = [np.mean(df[ df['lambda'].values == x_i ].value.values) for x_i in xs]\n",
    "data = [df[ df['lambda'].values == x_i ].value.values for x_i in xs]"
   ]
  },
  {
   "cell_type": "code",
   "execution_count": 17,
   "metadata": {},
   "outputs": [
    {
     "output_type": "stream",
     "name": "stdout",
     "text": [
      "-0.007170526544086897\n0.0017119846162927388\n-0.4880757704803784\n-0.017327848876647067\n-34.7611597401265\n"
     ]
    }
   ],
   "source": [
    "def isiterable(p_object):\n",
    "    try:\n",
    "        it = iter(p_object)\n",
    "    except TypeError: \n",
    "        return False\n",
    "    return True\n",
    "\n",
    "def eval(func, vars):\n",
    "    if isiterable(vars):\n",
    "        return [ func(var) for var in vars ]\n",
    "    return func(vars)\n",
    "\n",
    "def derivate(func, vars, h = 0.001):    \n",
    "    f = lambda var: (func(var + h) - func(var - h))/(2*h)\n",
    "    return eval(f, vars)\n",
    "\n",
    "def eta(x, theta=[153.79, 17.26, -2.58, 0.455, 0.01746]): \n",
    "    f = lambda var: (theta[0] + theta[2]*var + theta[4]*var**2) * np.exp(theta[3]*(var-theta[1]))/( 1 + np.exp(theta[3]*(var-theta[1])) )\n",
    "    return eval(f, x)\n",
    "\n",
    "def y(x, theta=[153.79, 17.26, -2.58, 0.455, 0.01746], sigma=10.17): \n",
    "    f = lambda var: eta(var, theta) + np.random.normal(0, sigma**2)\n",
    "    return eval(f, x)\n",
    "\n",
    "def f(i, y, theta=[153.79, 17.26, -2.58, 0.455, 0.01746], sigma=10.17, x=xs):\n",
    "    f = lambda var: np.exp( -(var - eta(x[i], theta))**2 / (2*sigma**2) ) / np.sqrt(2*np.pi*sigma**2)\n",
    "    return eval(f, y)\n",
    "\n",
    "def Lik(theta, y=ys):\n",
    "    return np.prod( [f(i, y[i], theta) for i in range(len(y))] )\n",
    "\n",
    "def L(theta, y=ys):\n",
    "    return np.log( Lik(theta, y) )\n",
    "\n",
    "def L_sum(theta, y=ys):\n",
    "    return np.sum( [np.log(f(i, y[i], theta)) for i in range(len(y))] ) \n",
    "\n",
    "def derivate_L(theta, y=ys): \n",
    "    score = []\n",
    "    for i in range(len(theta)):\n",
    "        f = lambda var: L((theta[0:i]+[var]+theta[i+1:]), y)\n",
    "        score.append( derivate(f, theta[i]) )\n",
    "    return score\n",
    "\n",
    "def hessian_L(theta, y=ys): return []\n",
    "\n",
    "test = [153.79, 17.26, -2.58, 0.455, 0.01746]\n",
    "for i in range(len(test)):\n",
    "    tf = lambda var: L(test[0:i]+[var]+test[i+1:])\n",
    "    print( derivate(tf, test[i]) )"
   ]
  },
  {
   "cell_type": "code",
   "execution_count": null,
   "metadata": {},
   "outputs": [],
   "source": [
    "# Likelyhood functions\n",
    "# a=10.17, b=153.79, c=17.26, d=-2.58, e=0.455, f=0.01746 \n",
    "print(Lik([153.79, 17.26, -2.58, 0.455, 0.01746]))\n",
    "print(L([153.79, 17.26, -2.58, 0.455, 0.01746]))\n",
    "print(L_sum([153.79, 17.26, -2.58, 0.455, 0.01746]))"
   ]
  },
  {
   "cell_type": "code",
   "execution_count": null,
   "metadata": {},
   "outputs": [],
   "source": [
    "# Random MLE\n",
    "max = 0\n",
    "param = []\n",
    "for i in range(100000):\n",
    "    a = np.random.uniform(150, 160)\n",
    "    b = np.random.uniform(15, 20)\n",
    "    c = np.random.uniform(-5, 0)\n",
    "    d = np.random.uniform(-2, 2)\n",
    "    e = np.random.uniform(-2, 2)\n",
    "    likelyHood = Lik([a, b, c, d, e], ys)\n",
    "    if likelyHood>max: \n",
    "        max=likelyHood\n",
    "        param = [a,b,c,d,e]\n",
    "print(max)\n",
    "print(param)"
   ]
  },
  {
   "cell_type": "code",
   "execution_count": null,
   "metadata": {},
   "outputs": [],
   "source": [
    "# Data\n",
    "plt.plot(xs, data, 'o', color='black', markersize='3')\n",
    "\n",
    "# Regression\n",
    "x = np.linspace(1, 80, num=100)\n",
    "plt.plot(x, eta(x))\n",
    "\n",
    "# TODO Confidence Bands\n",
    "# plt.plot(x, [eta(x_i) - h_lower(x_i) for x_i in x], linestyle='dashed')\n",
    "# plt.plot(x, [eta(x_i) + h_upper(x_i) for x_i in x], linestyle='dashed')"
   ]
  }
 ]
}